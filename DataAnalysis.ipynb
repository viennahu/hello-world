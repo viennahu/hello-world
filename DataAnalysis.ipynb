{
 "cells": [
  {
   "cell_type": "markdown",
   "metadata": {},
   "source": [
    "# Young People Survey Exploratory Data Analysis"
   ]
  },
  {
   "cell_type": "markdown",
   "metadata": {},
   "source": [
    "### Import packages to use"
   ]
  },
  {
   "cell_type": "code",
   "execution_count": 3,
   "metadata": {},
   "outputs": [],
   "source": [
    "import numpy as np\n",
    "import pandas as pd\n",
    "import matplotlib.pyplot as plt\n",
    "import seaborn as sns"
   ]
  },
  {
   "cell_type": "markdown",
   "metadata": {},
   "source": [
    "### Read in the data"
   ]
  },
  {
   "cell_type": "code",
   "execution_count": 23,
   "metadata": {},
   "outputs": [],
   "source": [
    "df = pd.read_csv(\"survey.csv\")"
   ]
  },
  {
   "cell_type": "markdown",
   "metadata": {},
   "source": [
    "#### The variables can be split into the following groups:\n",
    "\n",
    "- Music preferences (19 items)\n",
    "- Movie preferences (12 items)\n",
    "- Hobbies & interests (32 items)\n",
    "- Phobias (10 items)\n",
    "- Health habits (3 items)\n",
    "- Personality traits, views on life, & opinions (57 items)\n",
    "- Spending habits (7 items)\n",
    "- Demographics (10 items)\n",
    "\n",
    "#### 1 = The Least and 5 = The most"
   ]
  },
  {
   "cell_type": "markdown",
   "metadata": {},
   "source": [
    "### Overview"
   ]
  },
  {
   "cell_type": "code",
   "execution_count": 30,
   "metadata": {},
   "outputs": [
    {
     "name": "stdout",
     "output_type": "stream",
     "text": [
      "   Music  Slow songs or fast songs  Dance  Folk  Country  Classical music  \\\n",
      "0    5.0                       3.0    2.0   1.0      2.0              2.0   \n",
      "1    4.0                       4.0    2.0   1.0      1.0              1.0   \n",
      "2    5.0                       5.0    2.0   2.0      3.0              4.0   \n",
      "3    5.0                       3.0    2.0   1.0      1.0              1.0   \n",
      "4    5.0                       3.0    4.0   3.0      2.0              4.0   \n",
      "\n",
      "   Musical  Pop  Rock  Metal or Hardrock           ...             Age  \\\n",
      "0      1.0  5.0   5.0                1.0           ...            20.0   \n",
      "1      2.0  3.0   5.0                4.0           ...            19.0   \n",
      "2      5.0  3.0   5.0                3.0           ...            20.0   \n",
      "3      1.0  2.0   2.0                1.0           ...            22.0   \n",
      "4      3.0  5.0   3.0                1.0           ...            20.0   \n",
      "\n",
      "   Height  Weight  Number of siblings  Gender  Left - right handed  \\\n",
      "0   163.0    48.0                 1.0  female         right handed   \n",
      "1   163.0    58.0                 2.0  female         right handed   \n",
      "2   176.0    67.0                 2.0  female         right handed   \n",
      "3   172.0    59.0                 1.0  female         right handed   \n",
      "4   170.0    59.0                 1.0  female         right handed   \n",
      "\n",
      "                 Education  Only child  Village - town  House - block of flats  \n",
      "0  college/bachelor degree          no         village          block of flats  \n",
      "1  college/bachelor degree          no            city          block of flats  \n",
      "2         secondary school          no            city          block of flats  \n",
      "3  college/bachelor degree         yes            city          house/bungalow  \n",
      "4         secondary school          no         village          house/bungalow  \n",
      "\n",
      "[5 rows x 150 columns]\n",
      "(1010, 150)\n"
     ]
    }
   ],
   "source": [
    "print(df.head())\n",
    "print(df.shape)"
   ]
  },
  {
   "cell_type": "markdown",
   "metadata": {},
   "source": [
    "#### The data has 1010 rows and 150 columns"
   ]
  },
  {
   "cell_type": "code",
   "execution_count": 47,
   "metadata": {},
   "outputs": [
    {
     "name": "stdout",
     "output_type": "stream",
     "text": [
      "<class 'pandas.core.frame.DataFrame'>\n",
      "RangeIndex: 1010 entries, 0 to 1009\n",
      "Columns: 150 entries, Music to House - block of flats\n",
      "dtypes: float64(134), int64(5), object(11)\n",
      "memory usage: 1.2+ MB\n"
     ]
    }
   ],
   "source": [
    "df.info()"
   ]
  },
  {
   "cell_type": "markdown",
   "metadata": {},
   "source": [
    "#### 11 Categorical Variables:\n",
    "- Alcohol\n",
    "- Smoking\n",
    "- Punctuality\n",
    "- Lying\n",
    "- Internet usage\n",
    "- Gender\n",
    "- Left - right handed\n",
    "- Education\n",
    "- Only child\n",
    "- Village - town\n",
    "- House - block of flats\n",
    "\n",
    "#### The rest are either float or integer"
   ]
  },
  {
   "cell_type": "markdown",
   "metadata": {},
   "source": [
    "# Data Analysis"
   ]
  },
  {
   "cell_type": "markdown",
   "metadata": {},
   "source": [
    "### Does smoking has relationship with life happiness?\n",
    "##### Smoking habits has four categories\n",
    "- Never smoked \n",
    "- Tried smoking \n",
    "- Former smoker \n",
    "- Current smoker"
   ]
  },
  {
   "cell_type": "code",
   "execution_count": 62,
   "metadata": {},
   "outputs": [
    {
     "data": {
      "text/plain": [
       "<matplotlib.axes._subplots.AxesSubplot at 0x109f02240>"
      ]
     },
     "execution_count": 62,
     "metadata": {},
     "output_type": "execute_result"
    },
    {
     "data": {
      "image/png": "[encoded data removed]",
      "text/plain": [
       "<matplotlib.figure.Figure at 0x109ecad30>"
      ]
     },
     "metadata": {},
     "output_type": "display_data"
    }
   ],
   "source": [
    "sns.countplot(x = \"Smoking\", data = df)"
   ]
  },
  {
   "cell_type": "markdown",
   "metadata": {},
   "source": [
    "From the survey, we observed that more people had tried smoking than never smoked. There are also more smoker than non-smoker in the data."
   ]
  },
  {
   "cell_type": "code",
   "execution_count": 67,
   "metadata": {},
   "outputs": [
    {
     "data": {
      "text/plain": [
       "<matplotlib.axes._subplots.AxesSubplot at 0x109ddcfd0>"
      ]
     },
     "execution_count": 67,
     "metadata": {},
     "output_type": "execute_result"
    },
    {
     "data": {
      "image/png": "[encoded data removed]",
      "text/plain": [
       "<matplotlib.figure.Figure at 0x109ddfb00>"
      ]
     },
     "metadata": {},
     "output_type": "display_data"
    }
   ],
   "source": [
    "sns.barplot(x = \"Smoking\", y = \"Happiness in life\", data = df)"
   ]
  },
  {
   "cell_type": "markdown",
   "metadata": {},
   "source": [
    "#### Current smoker has the highest score regarding happiness in life, while former smoker has the lowest. In other words, current smokers are the happiest people compared to other groups.\n",
    "\n",
    "#### However, we need to run formal statistical test to verify the differences are significant."
   ]
  },
  {
   "cell_type": "markdown",
   "metadata": {},
   "source": [
    "### Does smoking habits have have relationship with difficulty getting up in the morning?\n",
    "\n",
    "##### I find it very difficult to get up in the morning.: Strongly disagree 1-2-3-4-5 Strongly agree (integer)"
   ]
  },
  {
   "cell_type": "code",
   "execution_count": 76,
   "metadata": {},
   "outputs": [
    {
     "data": {
      "text/plain": [
       "<matplotlib.axes._subplots.AxesSubplot at 0x10a14d4e0>"
      ]
     },
     "execution_count": 76,
     "metadata": {},
     "output_type": "execute_result"
    },
    {
     "data": {
      "image/png": "[encoded data removed]",
      "text/plain": [
       "<matplotlib.figure.Figure at 0x10a116d30>"
      ]
     },
     "metadata": {},
     "output_type": "display_data"
    }
   ],
   "source": [
    "sns.boxplot(x = \"Smoking\", y = \"Getting up\", data = df)"
   ]
  },
  {
   "cell_type": "markdown",
   "metadata": {},
   "source": [
    "#### The median is approximately the same for all groups, but former smokers have higher proportion to disagee with wake up difficulty. Former smoker has the least difficulty getting up compared to others."
   ]
  },
  {
   "cell_type": "markdown",
   "metadata": {},
   "source": [
    "### Does smoking habit has anything to do with feeling lonely in life?\n",
    "I feel lonely in life.: Strongly disagree 1-2-3-4-5 Strongly agree (integer)"
   ]
  },
  {
   "cell_type": "code",
   "execution_count": 81,
   "metadata": {},
   "outputs": [
    {
     "data": {
      "text/plain": [
       "<matplotlib.axes._subplots.AxesSubplot at 0x10b080cc0>"
      ]
     },
     "execution_count": 81,
     "metadata": {},
     "output_type": "execute_result"
    },
    {
     "data": {
      "image/png": "[encoded data removed]",
      "text/plain": [
       "<matplotlib.figure.Figure at 0x10a14d438>"
      ]
     },
     "metadata": {},
     "output_type": "display_data"
    }
   ],
   "source": [
    "sns.boxplot(x = \"Smoking\", y = \"Loneliness\", data = df)"
   ]
  },
  {
   "cell_type": "markdown",
   "metadata": {},
   "source": [
    "#### Smoking habit has nothing to do with loneliness."
   ]
  },
  {
   "cell_type": "markdown",
   "metadata": {},
   "source": [
    "### Any relationship between smoking and saving habit?\n",
    "I save all the money I can.: Strongly disagree 1-2-3-4-5 Strongly agree (integer)"
   ]
  },
  {
   "cell_type": "code",
   "execution_count": 87,
   "metadata": {},
   "outputs": [
    {
     "data": {
      "text/plain": [
       "<matplotlib.axes._subplots.AxesSubplot at 0x10b1dcfd0>"
      ]
     },
     "execution_count": 87,
     "metadata": {},
     "output_type": "execute_result"
    },
    {
     "data": {
      "image/png": "[encoded data removed]",
      "text/plain": [
       "<matplotlib.figure.Figure at 0x10b1e1780>"
      ]
     },
     "metadata": {},
     "output_type": "display_data"
    }
   ],
   "source": [
    "sns.boxplot(x = \"Smoking\", y = \"Finances\", data = df)"
   ]
  },
  {
   "cell_type": "markdown",
   "metadata": {},
   "source": [
    "#### People who never smoked have higher tendency to save all the money they can compared to smokers."
   ]
  },
  {
   "cell_type": "markdown",
   "metadata": {},
   "source": [
    "### Relationship between believes in God and smoking habit?\n",
    "I believe in God.: Strongly disagree 1-2-3-4-5 Strongly agree (integer)\n"
   ]
  },
  {
   "cell_type": "code",
   "execution_count": 90,
   "metadata": {},
   "outputs": [
    {
     "data": {
      "text/plain": [
       "<matplotlib.axes._subplots.AxesSubplot at 0x10b32b860>"
      ]
     },
     "execution_count": 90,
     "metadata": {},
     "output_type": "execute_result"
    },
    {
     "data": {
      "image/png": "[encoded data removed]",
      "text/plain": [
       "<matplotlib.figure.Figure at 0x10b32f390>"
      ]
     },
     "metadata": {},
     "output_type": "display_data"
    }
   ],
   "source": [
    "sns.boxplot(x = \"Smoking\", y = \"God\", data = df)"
   ]
  },
  {
   "cell_type": "markdown",
   "metadata": {},
   "source": [
    "#### Current smoker and former smoker don't believe in God as much as people who never smoked and tried smoking. In particular, majoirty of current smoker have no strong opinion in this topic."
   ]
  },
  {
   "cell_type": "markdown",
   "metadata": {},
   "source": [
    "### Do we see the same effect across gender?"
   ]
  },
  {
   "cell_type": "code",
   "execution_count": 92,
   "metadata": {},
   "outputs": [
    {
     "data": {
      "text/plain": [
       "<matplotlib.axes._subplots.AxesSubplot at 0x10b3de4e0>"
      ]
     },
     "execution_count": 92,
     "metadata": {},
     "output_type": "execute_result"
    },
    {
     "data": {
      "image/png": "[encoded data removed]",
      "text/plain": [
       "<matplotlib.figure.Figure at 0x10b377f98>"
      ]
     },
     "metadata": {},
     "output_type": "display_data"
    }
   ],
   "source": [
    "sns.boxplot(x = \"Smoking\", y = \"God\", hue = \"Gender\", data = df)"
   ]
  },
  {
   "cell_type": "code",
   "execution_count": 96,
   "metadata": {},
   "outputs": [
    {
     "name": "stdout",
     "output_type": "stream",
     "text": [
      "                       count      mean       std  min  25%  50%  75%  max\n",
      "Gender Smoking                                                           \n",
      "female current smoker  111.0  3.207207  1.471654  1.0  2.0  3.0  5.0  5.0\n",
      "       former smoker   108.0  3.324074  1.458643  1.0  2.0  3.5  5.0  5.0\n",
      "       never smoked    122.0  3.688525  1.499763  1.0  3.0  4.0  5.0  5.0\n",
      "       tried smoking   246.0  3.540650  1.392536  1.0  3.0  4.0  5.0  5.0\n",
      "male   current smoker   78.0  2.794872  1.480251  1.0  1.0  3.0  4.0  5.0\n",
      "       former smoker    65.0  2.923077  1.689191  1.0  1.0  3.0  5.0  5.0\n",
      "       never smoked     84.0  3.023810  1.447692  1.0  2.0  3.0  4.0  5.0\n",
      "       tried smoking   180.0  3.266667  1.459318  1.0  2.0  3.0  5.0  5.0\n"
     ]
    }
   ],
   "source": [
    "print(df.groupby([\"Gender\",\"Smoking\"])[\"God\"].describe())"
   ]
  },
  {
   "cell_type": "markdown",
   "metadata": {},
   "source": [
    "#### Male score lower in all smoking groups. Therefore, more female belive in God compare to male. "
   ]
  },
  {
   "cell_type": "markdown",
   "metadata": {},
   "source": [
    "### Does male and female have different spending habits?\n",
    "### Saving\n",
    "I save all the money I can.: Strongly disagree 1-2-3-4-5 Strongly agree (integer)"
   ]
  },
  {
   "cell_type": "code",
   "execution_count": 111,
   "metadata": {},
   "outputs": [
    {
     "name": "stdout",
     "output_type": "stream",
     "text": [
      "        count      mean       std  min  25%  50%  75%  max\n",
      "Gender                                                    \n",
      "female  591.0  3.084602  1.128799  1.0  2.0  3.0  4.0  5.0\n",
      "male    410.0  2.941463  1.166563  1.0  2.0  3.0  4.0  5.0\n"
     ]
    },
    {
     "data": {
      "image/png": "[encoded data removed]",
      "text/plain": [
       "<matplotlib.figure.Figure at 0x10b6cd9b0>"
      ]
     },
     "metadata": {},
     "output_type": "display_data"
    }
   ],
   "source": [
    "sns.boxplot(x = \"Gender\", y = \"Finances\", data = df)\n",
    "print(df.groupby(\"Gender\")[\"Finances\"].describe())"
   ]
  },
  {
   "cell_type": "markdown",
   "metadata": {},
   "source": [
    "#### We don't see any different in saving habit across gender"
   ]
  },
  {
   "cell_type": "markdown",
   "metadata": {},
   "source": [
    "### Shopping\n",
    "I enjoy going to large shopping centres.: Strongly disagree 1-2-3-4-5 Strongly agree (integer)"
   ]
  },
  {
   "cell_type": "code",
   "execution_count": 113,
   "metadata": {},
   "outputs": [
    {
     "name": "stdout",
     "output_type": "stream",
     "text": [
      "        count      mean       std  min  25%  50%  75%  max\n",
      "Gender                                                    \n",
      "female  591.0  3.421320  1.313613  1.0  2.0  4.0  5.0  5.0\n",
      "male    411.0  2.970803  1.291293  1.0  2.0  3.0  4.0  5.0\n"
     ]
    },
    {
     "data": {
      "image/png": "[encoded data removed]",
      "text/plain": [
       "<matplotlib.figure.Figure at 0x10b6afdd8>"
      ]
     },
     "metadata": {},
     "output_type": "display_data"
    }
   ],
   "source": [
    "sns.boxplot(x = \"Gender\", y = \"Shopping centres\", data = df)\n",
    "print(df.groupby(\"Gender\")[\"Shopping centres\"].describe())"
   ]
  },
  {
   "cell_type": "markdown",
   "metadata": {},
   "source": [
    " #### Female prefer going to large shopping centers than male"
   ]
  },
  {
   "cell_type": "markdown",
   "metadata": {},
   "source": [
    "### Branded Clothing\n",
    "I prefer branded clothing to non branded.: Strongly disagree 1-2-3-4-5 Strongly agree (integer)"
   ]
  },
  {
   "cell_type": "code",
   "execution_count": 114,
   "metadata": {},
   "outputs": [
    {
     "name": "stdout",
     "output_type": "stream",
     "text": [
      "        count      mean       std  min  25%  50%  75%  max\n",
      "Gender                                                    \n",
      "female  591.0  2.864636  1.281664  1.0  2.0  3.0  4.0  5.0\n",
      "male    411.0  3.321168  1.296906  1.0  2.0  4.0  4.0  5.0\n"
     ]
    },
    {
     "data": {
      "image/png": "[encoded data removed]",
      "text/plain": [
       "<matplotlib.figure.Figure at 0x10b12b898>"
      ]
     },
     "metadata": {},
     "output_type": "display_data"
    }
   ],
   "source": [
    "sns.boxplot(x = \"Gender\", y = \"Branded clothing\", data = df)\n",
    "print(df.groupby(\"Gender\")[\"Branded clothing\"].describe())"
   ]
  },
  {
   "cell_type": "markdown",
   "metadata": {},
   "source": [
    "#### Female prefer branded clothing compare to male"
   ]
  },
  {
   "cell_type": "markdown",
   "metadata": {},
   "source": [
    "### Socialize and party\n",
    "I spend a lot of money on partying and socializing.: Strongly disagree 1-2-3-4-5 Strongly agree (integer)"
   ]
  },
  {
   "cell_type": "code",
   "execution_count": 117,
   "metadata": {},
   "outputs": [
    {
     "name": "stdout",
     "output_type": "stream",
     "text": [
      "        count      mean       std  min  25%  50%  75%  max\n",
      "Gender                                                    \n",
      "female  592.0  3.023649  1.191956  1.0  2.0  3.0  4.0  5.0\n",
      "male    409.0  3.454768  1.136961  1.0  3.0  4.0  4.0  5.0\n"
     ]
    },
    {
     "data": {
      "image/png": "[encoded data removed]",
      "text/plain": [
       "<matplotlib.figure.Figure at 0x10b7e2f98>"
      ]
     },
     "metadata": {},
     "output_type": "display_data"
    }
   ],
   "source": [
    "sns.boxplot(x = \"Gender\", y = \"Entertainment spending\", data = df)\n",
    "print(df.groupby(\"Gender\")[\"Entertainment spending\"].describe())"
   ]
  },
  {
   "cell_type": "markdown",
   "metadata": {},
   "source": [
    "#### Male spend a lot more on partying and socialzing than female"
   ]
  },
  {
   "cell_type": "markdown",
   "metadata": {},
   "source": [
    "### Appearance\n",
    "I spend a lot of money on my appearance.: Strongly disagree 1-2-3-4-5 Strongly agree (integer)"
   ]
  },
  {
   "cell_type": "code",
   "execution_count": 119,
   "metadata": {},
   "outputs": [
    {
     "name": "stdout",
     "output_type": "stream",
     "text": [
      "        count      mean       std  min  25%  50%  75%  max\n",
      "Gender                                                    \n",
      "female  592.0  3.231419  1.190270  1.0  2.0  3.0  4.0  5.0\n",
      "male    409.0  2.929095  1.207558  1.0  2.0  3.0  4.0  5.0\n"
     ]
    },
    {
     "data": {
      "image/png": "[encoded data removed]",
      "text/plain": [
       "<matplotlib.figure.Figure at 0x10b8ee898>"
      ]
     },
     "metadata": {},
     "output_type": "display_data"
    }
   ],
   "source": [
    "sns.boxplot(x = \"Gender\", y = \"Spending on looks\", data = df)\n",
    "print(df.groupby(\"Gender\")[\"Spending on looks\"].describe())"
   ]
  },
  {
   "cell_type": "markdown",
   "metadata": {},
   "source": [
    "#### Female spend slightly more on appearance than male"
   ]
  },
  {
   "cell_type": "markdown",
   "metadata": {},
   "source": [
    "### Gadgets\n",
    "I spend a lot of money on gadgets.: Strongly disagree 1-2-3-4-5 Strongly agree (integer)"
   ]
  },
  {
   "cell_type": "code",
   "execution_count": 121,
   "metadata": {},
   "outputs": [
    {
     "name": "stdout",
     "output_type": "stream",
     "text": [
      "        count      mean       std  min  25%  50%  75%  max\n",
      "Gender                                                    \n",
      "female  593.0  2.581788  1.230444  1.0  2.0  2.0  3.0  5.0\n",
      "male    411.0  3.291971  1.242503  1.0  2.0  3.0  4.0  5.0\n"
     ]
    },
    {
     "data": {
      "image/png": "[encoded data removed]",
      "text/plain": [
       "<matplotlib.figure.Figure at 0x10b9481d0>"
      ]
     },
     "metadata": {},
     "output_type": "display_data"
    }
   ],
   "source": [
    "sns.boxplot(x = \"Gender\", y = \"Spending on gadgets\", data = df)\n",
    "print(df.groupby(\"Gender\")[\"Spending on gadgets\"].describe())"
   ]
  },
  {
   "cell_type": "markdown",
   "metadata": {},
   "source": [
    "#### Male spend a lot more on gadgets compare to female"
   ]
  },
  {
   "cell_type": "markdown",
   "metadata": {},
   "source": [
    "### Healthy food\n",
    "I will hapilly pay more money for good, quality or healthy food.: Strongly disagree 1-2-3-4-5 Strongly agree (integer)"
   ]
  },
  {
   "cell_type": "code",
   "execution_count": 123,
   "metadata": {},
   "outputs": [
    {
     "name": "stdout",
     "output_type": "stream",
     "text": [
      "        count      mean       std  min  25%  50%  75%  max\n",
      "Gender                                                    \n",
      "female  592.0  3.548986  1.096510  1.0  3.0  4.0  4.0  5.0\n",
      "male    410.0  3.560976  1.093407  1.0  3.0  4.0  4.0  5.0\n"
     ]
    },
    {
     "data": {
      "image/png": "[encoded data removed]",
      "text/plain": [
       "<matplotlib.figure.Figure at 0x10ba16860>"
      ]
     },
     "metadata": {},
     "output_type": "display_data"
    }
   ],
   "source": [
    "sns.boxplot(x = \"Gender\", y = \"Spending on healthy eating\", data = df)\n",
    "print(df.groupby(\"Gender\")[\"Spending on healthy eating\"].describe())"
   ]
  },
  {
   "cell_type": "markdown",
   "metadata": {},
   "source": [
    "#### Female and male are almost equally likely to spend money on healthy and quality food"
   ]
  },
  {
   "cell_type": "markdown",
   "metadata": {},
   "source": [
    "### In conclusion, we observed that male are more willing to spend money on gadgets and entertainment (partying and socializing). On the other hand, female are more willing to spend money on appearance, branded clothing and shopping. Both genders have similar saving habits."
   ]
  },
  {
   "cell_type": "markdown",
   "metadata": {},
   "source": [
    "### Does gender and smoking habit has anything to do with enjoying watching movie?"
   ]
  },
  {
   "cell_type": "code",
   "execution_count": 126,
   "metadata": {},
   "outputs": [
    {
     "data": {
      "text/plain": [
       "<matplotlib.axes._subplots.AxesSubplot at 0x10bb439e8>"
      ]
     },
     "execution_count": 126,
     "metadata": {},
     "output_type": "execute_result"
    },
    {
     "data": {
      "image/png": "[encoded data removed]",
      "text/plain": [
       "<matplotlib.figure.Figure at 0x10bad4208>"
      ]
     },
     "metadata": {},
     "output_type": "display_data"
    }
   ],
   "source": [
    "sns.barplot(x = \"Gender\", y = \"Movies\", hue = \"Smoking\", data = df)"
   ]
  },
  {
   "cell_type": "markdown",
   "metadata": {},
   "source": [
    "#### It appears that everyone enjoy watching movie and no significant difference between groups"
   ]
  },
  {
   "cell_type": "markdown",
   "metadata": {},
   "source": [
    "### Horror movie and gender"
   ]
  },
  {
   "cell_type": "code",
   "execution_count": 131,
   "metadata": {},
   "outputs": [
    {
     "data": {
      "text/plain": [
       "<matplotlib.axes._subplots.AxesSubplot at 0x10bc9d668>"
      ]
     },
     "execution_count": 131,
     "metadata": {},
     "output_type": "execute_result"
    },
    {
     "data": {
      "image/png": "[encoded data removed]",
      "text/plain": [
       "<matplotlib.figure.Figure at 0x10bc9c3c8>"
      ]
     },
     "metadata": {},
     "output_type": "display_data"
    }
   ],
   "source": [
    "sns.boxplot(x = \"Gender\", y = \"Horror\", data = df)"
   ]
  },
  {
   "cell_type": "markdown",
   "metadata": {},
   "source": [
    "#### Male like horror movie more than female"
   ]
  },
  {
   "cell_type": "markdown",
   "metadata": {},
   "source": [
    "### Does spending on appearance correlates with childhood environment?"
   ]
  },
  {
   "cell_type": "code",
   "execution_count": 139,
   "metadata": {},
   "outputs": [
    {
     "data": {
      "text/plain": [
       "<matplotlib.axes._subplots.AxesSubplot at 0x10beb6438>"
      ]
     },
     "execution_count": 139,
     "metadata": {},
     "output_type": "execute_result"
    },
    {
     "data": {
      "image/png": "[encoded data removed]",
      "text/plain": [
       "<matplotlib.figure.Figure at 0x10be50400>"
      ]
     },
     "metadata": {},
     "output_type": "display_data"
    }
   ],
   "source": [
    "sns.barplot(x = \"Village - town\", y = \"Spending on looks\", data = df)"
   ]
  },
  {
   "cell_type": "code",
   "execution_count": 141,
   "metadata": {},
   "outputs": [
    {
     "data": {
      "text/plain": [
       "<matplotlib.axes._subplots.AxesSubplot at 0x10be2e198>"
      ]
     },
     "execution_count": 141,
     "metadata": {},
     "output_type": "execute_result"
    },
    {
     "data": {
      "image/png": "[encoded data removed]",
      "text/plain": [
       "<matplotlib.figure.Figure at 0x10bf2f240>"
      ]
     },
     "metadata": {},
     "output_type": "display_data"
    }
   ],
   "source": [
    "sns.countplot(x = \"Spending on looks\", data = df)"
   ]
  },
  {
   "cell_type": "markdown",
   "metadata": {},
   "source": [
    "#### People who grew up in city spend more money on appearance compared to people who grew up in village"
   ]
  },
  {
   "cell_type": "markdown",
   "metadata": {},
   "source": [
    "### Does gender and only child affects interest in pets?"
   ]
  },
  {
   "cell_type": "code",
   "execution_count": 144,
   "metadata": {},
   "outputs": [
    {
     "data": {
      "text/plain": [
       "<matplotlib.axes._subplots.AxesSubplot at 0x10c119a20>"
      ]
     },
     "execution_count": 144,
     "metadata": {},
     "output_type": "execute_result"
    },
    {
     "data": {
      "image/png": "[encoded data removed]",
      "text/plain": [
       "<matplotlib.figure.Figure at 0x10af92748>"
      ]
     },
     "metadata": {},
     "output_type": "display_data"
    }
   ],
   "source": [
    "sns.boxplot(x = \"Only child\", y = \"Pets\", hue = \"Gender\", data = df)"
   ]
  },
  {
   "cell_type": "markdown",
   "metadata": {},
   "source": [
    "#### Whether the person is only child or not doesn't affect interest in pets. However, female has much higher interest in pets compare to male."
   ]
  }
 ],
 "metadata": {
  "kernelspec": {
   "display_name": "Python 3",
   "language": "python",
   "name": "python3"
  },
  "language_info": {
   "codemirror_mode": {
    "name": "ipython",
    "version": 3
   },
   "file_extension": ".py",
   "mimetype": "text/x-python",
   "name": "python",
   "nbconvert_exporter": "python",
   "pygments_lexer": "ipython3",
   "version": "3.6.4"
  }
 },
 "nbformat": 4,
 "nbformat_minor": 2
}
