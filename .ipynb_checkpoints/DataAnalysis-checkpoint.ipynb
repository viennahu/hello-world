{
 "cells": [
  {
   "cell_type": "markdown",
   "metadata": {},
   "source": [
    "# Young People Survey Exploratory Data Analysis"
   ]
  },
  {
   "cell_type": "markdown",
   "metadata": {},
   "source": [
    "### Import packages to use"
   ]
  },
  {
   "cell_type": "code",
   "execution_count": 3,
   "metadata": {},
   "outputs": [],
   "source": [
    "import numpy as np\n",
    "import pandas as pd\n",
    "import matplotlib.pyplot as plt\n",
    "import seaborn as sns"
   ]
  },
  {
   "cell_type": "markdown",
   "metadata": {},
   "source": [
    "### Read in the data"
   ]
  },
  {
   "cell_type": "code",
   "execution_count": 23,
   "metadata": {},
   "outputs": [],
   "source": [
    "df = pd.read_csv(\"survey.csv\")"
   ]
  },
  {
   "cell_type": "markdown",
   "metadata": {},
   "source": [
    "#### The variables can be split into the following groups:\n",
    "\n",
    "- Music preferences (19 items)\n",
    "- Movie preferences (12 items)\n",
    "- Hobbies & interests (32 items)\n",
    "- Phobias (10 items)\n",
    "- Health habits (3 items)\n",
    "- Personality traits, views on life, & opinions (57 items)\n",
    "- Spending habits (7 items)\n",
    "- Demographics (10 items)\n",
    "\n",
    "#### 1 = The Least and 5 = The most"
   ]
  },
  {
   "cell_type": "markdown",
   "metadata": {},
   "source": [
    "### Overview"
   ]
  },
  {
   "cell_type": "code",
   "execution_count": 30,
   "metadata": {},
   "outputs": [
    {
     "name": "stdout",
     "output_type": "stream",
     "text": [
      "   Music  Slow songs or fast songs  Dance  Folk  Country  Classical music  \\\n",
      "0    5.0                       3.0    2.0   1.0      2.0              2.0   \n",
      "1    4.0                       4.0    2.0   1.0      1.0              1.0   \n",
      "2    5.0                       5.0    2.0   2.0      3.0              4.0   \n",
      "3    5.0                       3.0    2.0   1.0      1.0              1.0   \n",
      "4    5.0                       3.0    4.0   3.0      2.0              4.0   \n",
      "\n",
      "   Musical  Pop  Rock  Metal or Hardrock           ...             Age  \\\n",
      "0      1.0  5.0   5.0                1.0           ...            20.0   \n",
      "1      2.0  3.0   5.0                4.0           ...            19.0   \n",
      "2      5.0  3.0   5.0                3.0           ...            20.0   \n",
      "3      1.0  2.0   2.0                1.0           ...            22.0   \n",
      "4      3.0  5.0   3.0                1.0           ...            20.0   \n",
      "\n",
      "   Height  Weight  Number of siblings  Gender  Left - right handed  \\\n",
      "0   163.0    48.0                 1.0  female         right handed   \n",
      "1   163.0    58.0                 2.0  female         right handed   \n",
      "2   176.0    67.0                 2.0  female         right handed   \n",
      "3   172.0    59.0                 1.0  female         right handed   \n",
      "4   170.0    59.0                 1.0  female         right handed   \n",
      "\n",
      "                 Education  Only child  Village - town  House - block of flats  \n",
      "0  college/bachelor degree          no         village          block of flats  \n",
      "1  college/bachelor degree          no            city          block of flats  \n",
      "2         secondary school          no            city          block of flats  \n",
      "3  college/bachelor degree         yes            city          house/bungalow  \n",
      "4         secondary school          no         village          house/bungalow  \n",
      "\n",
      "[5 rows x 150 columns]\n",
      "(1010, 150)\n"
     ]
    }
   ],
   "source": [
    "print(df.head())\n",
    "print(df.shape)"
   ]
  },
  {
   "cell_type": "markdown",
   "metadata": {},
   "source": [
    "#### The data has 1010 rows and 150 columns"
   ]
  },
  {
   "cell_type": "code",
   "execution_count": 47,
   "metadata": {},
   "outputs": [
    {
     "name": "stdout",
     "output_type": "stream",
     "text": [
      "<class 'pandas.core.frame.DataFrame'>\n",
      "RangeIndex: 1010 entries, 0 to 1009\n",
      "Columns: 150 entries, Music to House - block of flats\n",
      "dtypes: float64(134), int64(5), object(11)\n",
      "memory usage: 1.2+ MB\n"
     ]
    }
   ],
   "source": [
    "df.info()"
   ]
  },
  {
   "cell_type": "markdown",
   "metadata": {},
   "source": [
    "#### 11 Categorical Variables:\n",
    "- Alcohol\n",
    "- Smoking\n",
    "- Punctuality\n",
    "- Lying\n",
    "- Internet usage\n",
    "- Gender\n",
    "- Left - right handed\n",
    "- Education\n",
    "- Only child\n",
    "- Village - town\n",
    "- House - block of flats\n",
    "\n",
    "#### The rest are either float or integer"
   ]
  },
  {
   "cell_type": "markdown",
   "metadata": {},
   "source": [
    "# Data Analysis"
   ]
  },
  {
   "cell_type": "markdown",
   "metadata": {},
   "source": [
    "### Does smoking has relationship with life happiness?\n",
    "##### Smoking habits has four categories\n",
    "- Never smoked \n",
    "- Tried smoking \n",
    "- Former smoker \n",
    "- Current smoker"
   ]
  },
  {
   "cell_type": "code",
   "execution_count": 62,
   "metadata": {},
   "outputs": [
    {
     "data": {
      "text/plain": [
       "<matplotlib.axes._subplots.AxesSubplot at 0x109f02240>"
      ]
     },
     "execution_count": 62,
     "metadata": {},
     "output_type": "execute_result"
    },
    {
     "data": {
      "image/png": "[encoded data removed]",
      "text/plain": [
       "<matplotlib.figure.Figure at 0x109ecad30>"
      ]
     },
     "metadata": {},
     "output_type": "display_data"
    }
   ],
   "source": [
    "sns.countplot(x = \"Smoking\", data = df)"
   ]
  },
  {
   "cell_type": "markdown",
   "metadata": {},
   "source": [
    "From the survey, we observed that more people had tried smoking than never smoked. There are also more smoker than non-smoker in the data."
   ]
  },
  {
   "cell_type": "code",
   "execution_count": 67,
   "metadata": {},
   "outputs": [
    {
     "data": {
      "text/plain": [
       "<matplotlib.axes._subplots.AxesSubplot at 0x109ddcfd0>"
      ]
     },
     "execution_count": 67,
     "metadata": {},
     "output_type": "execute_result"
    },
    {
     "data": {
      "image/png": "[encoded data removed]",
      "text/plain": [
       "<matplotlib.figure.Figure at 0x109ddfb00>"
      ]
     },
     "metadata": {},
     "output_type": "display_data"
    }
   ],
   "source": [
    "sns.barplot(x = \"Smoking\", y = \"Happiness in life\", data = df)"
   ]
  },
  {
   "cell_type": "markdown",
   "metadata": {},
   "source": [
    "#### Current smoker has the highest score regarding happiness in life, while former smoker has the lowest. In other words, current smokers are the happiest people compared to other groups.\n",
    "\n",
    "#### However, we need to run formal statistical test to verify the differences are significant."
   ]
  },
  {
   "cell_type": "markdown",
   "metadata": {},
   "source": [
    "### Does smoking habits have have relationship with difficulty getting up in the morning?\n",
    "\n",
    "##### I find it very difficult to get up in the morning.: Strongly disagree 1-2-3-4-5 Strongly agree (integer)"
   ]
  },
  {
   "cell_type": "code",
   "execution_count": 76,
   "metadata": {},
   "outputs": [
    {
     "data": {
      "text/plain": [
       "<matplotlib.axes._subplots.AxesSubplot at 0x10a14d4e0>"
      ]
     },
     "execution_count": 76,
     "metadata": {},
     "output_type": "execute_result"
    },
    {
     "data": {
      "image/png": "[encoded data removed]",
      "text/plain": [
       "<matplotlib.figure.Figure at 0x10a116d30>"
      ]
     },
     "metadata": {},
     "output_type": "display_data"
    }
   ],
   "source": [
    "sns.boxplot(x = \"Smoking\", y = \"Getting up\", data = df)"
   ]
  },
  {
   "cell_type": "markdown",
   "metadata": {},
   "source": [
    "#### The median is approximately the same for all groups, but former smokers have higher proportion to disagee with wake up difficulty. Former smoker has the least difficulty getting up compared to others."
   ]
  }
 ],
 "metadata": {
  "kernelspec": {
   "display_name": "Python 3",
   "language": "python",
   "name": "python3"
  },
  "language_info": {
   "codemirror_mode": {
    "name": "ipython",
    "version": 3
   },
   "file_extension": ".py",
   "mimetype": "text/x-python",
   "name": "python",
   "nbconvert_exporter": "python",
   "pygments_lexer": "ipython3",
   "version": "3.6.4"
  }
 },
 "nbformat": 4,
 "nbformat_minor": 2
}
